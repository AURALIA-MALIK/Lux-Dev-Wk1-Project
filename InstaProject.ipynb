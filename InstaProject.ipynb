{
 "cells": [
  {
   "cell_type": "markdown",
   "id": "523a5db6-cf9a-4346-88d7-cc763b00dbb4",
   "metadata": {},
   "source": [
    "## Overview\n",
    "Business Problem: Let’s say you’re a Product Data Scientist at Instagram. How would you measure the success of the Instagram TV product?\n",
    "\n",
    "The dataset used is from <a href=\"https://www.kaggle.com/datasets/sanjanchaudhari/user-behavior-on-instagram\" target=\"_blank\" rel=\"noopener\">Kaggle</a>"
   ]
  },
  {
   "cell_type": "markdown",
   "id": "b16b2b1c-d717-4bba-901e-2a58ebec8b36",
   "metadata": {},
   "source": [
    "## Load Dataset"
   ]
  },
  {
   "cell_type": "code",
   "execution_count": 1,
   "id": "2a66154a-9ccd-4d00-98f7-a858bff82001",
   "metadata": {},
   "outputs": [],
   "source": [
    "#import relevant libraries\n",
    "import pandas as pd\n",
    "import matplotlib.pyplot as plt\n",
    "import numpy as np"
   ]
  },
  {
   "cell_type": "code",
   "execution_count": 2,
   "id": "985899ec-b5d0-4080-9231-b397004e3117",
   "metadata": {},
   "outputs": [
    {
     "data": {
      "text/html": [
       "<div>\n",
       "<style scoped>\n",
       "    .dataframe tbody tr th:only-of-type {\n",
       "        vertical-align: middle;\n",
       "    }\n",
       "\n",
       "    .dataframe tbody tr th {\n",
       "        vertical-align: top;\n",
       "    }\n",
       "\n",
       "    .dataframe thead th {\n",
       "        text-align: right;\n",
       "    }\n",
       "</style>\n",
       "<table border=\"1\" class=\"dataframe\">\n",
       "  <thead>\n",
       "    <tr style=\"text-align: right;\">\n",
       "      <th></th>\n",
       "      <th>Unnamed: 0</th>\n",
       "      <th>id</th>\n",
       "      <th>comment</th>\n",
       "      <th>User  id</th>\n",
       "      <th>Photo id</th>\n",
       "      <th>created Timestamp</th>\n",
       "      <th>posted date</th>\n",
       "      <th>emoji used</th>\n",
       "      <th>Hashtags used count</th>\n",
       "    </tr>\n",
       "  </thead>\n",
       "  <tbody>\n",
       "    <tr>\n",
       "      <th>0</th>\n",
       "      <td>0</td>\n",
       "      <td>1</td>\n",
       "      <td>unde at dolorem</td>\n",
       "      <td>2</td>\n",
       "      <td>1</td>\n",
       "      <td>13-04-2023 08:04</td>\n",
       "      <td>April 14</td>\n",
       "      <td>yes</td>\n",
       "      <td>1</td>\n",
       "    </tr>\n",
       "    <tr>\n",
       "      <th>1</th>\n",
       "      <td>1</td>\n",
       "      <td>2</td>\n",
       "      <td>quae ea ducimus</td>\n",
       "      <td>3</td>\n",
       "      <td>1</td>\n",
       "      <td>13-04-2023 08:04</td>\n",
       "      <td>April 14</td>\n",
       "      <td>no</td>\n",
       "      <td>2</td>\n",
       "    </tr>\n",
       "    <tr>\n",
       "      <th>2</th>\n",
       "      <td>2</td>\n",
       "      <td>3</td>\n",
       "      <td>alias a voluptatum</td>\n",
       "      <td>5</td>\n",
       "      <td>1</td>\n",
       "      <td>13-04-2023 08:04</td>\n",
       "      <td>April 14</td>\n",
       "      <td>no</td>\n",
       "      <td>4</td>\n",
       "    </tr>\n",
       "    <tr>\n",
       "      <th>3</th>\n",
       "      <td>3</td>\n",
       "      <td>4</td>\n",
       "      <td>facere suscipit sunt</td>\n",
       "      <td>14</td>\n",
       "      <td>1</td>\n",
       "      <td>13-04-2023 08:04</td>\n",
       "      <td>April 14</td>\n",
       "      <td>yes</td>\n",
       "      <td>2</td>\n",
       "    </tr>\n",
       "    <tr>\n",
       "      <th>4</th>\n",
       "      <td>4</td>\n",
       "      <td>5</td>\n",
       "      <td>totam eligendi quaerat</td>\n",
       "      <td>17</td>\n",
       "      <td>1</td>\n",
       "      <td>13-04-2023 08:04</td>\n",
       "      <td>April 14</td>\n",
       "      <td>yes</td>\n",
       "      <td>1</td>\n",
       "    </tr>\n",
       "  </tbody>\n",
       "</table>\n",
       "</div>"
      ],
      "text/plain": [
       "   Unnamed: 0  id                 comment  User  id  Photo id  \\\n",
       "0           0   1         unde at dolorem         2         1   \n",
       "1           1   2         quae ea ducimus         3         1   \n",
       "2           2   3      alias a voluptatum         5         1   \n",
       "3           3   4    facere suscipit sunt        14         1   \n",
       "4           4   5  totam eligendi quaerat        17         1   \n",
       "\n",
       "  created Timestamp posted date emoji used  Hashtags used count  \n",
       "0  13-04-2023 08:04    April 14        yes                    1  \n",
       "1  13-04-2023 08:04    April 14         no                    2  \n",
       "2  13-04-2023 08:04    April 14         no                    4  \n",
       "3  13-04-2023 08:04    April 14        yes                    2  \n",
       "4  13-04-2023 08:04    April 14        yes                    1  "
      ]
     },
     "execution_count": 2,
     "metadata": {},
     "output_type": "execute_result"
    }
   ],
   "source": [
    "#load dataset\n",
    "data = pd.read_csv('comments_cleaned.csv')\n",
    "data.head(5)"
   ]
  },
  {
   "cell_type": "code",
   "execution_count": 4,
   "id": "5d94034b-e407-4665-96d8-5c4ab63e4591",
   "metadata": {},
   "outputs": [
    {
     "name": "stdout",
     "output_type": "stream",
     "text": [
      "<class 'pandas.core.frame.DataFrame'>\n",
      "RangeIndex: 7488 entries, 0 to 7487\n",
      "Data columns (total 9 columns):\n",
      " #   Column               Non-Null Count  Dtype \n",
      "---  ------               --------------  ----- \n",
      " 0   Unnamed: 0           7488 non-null   int64 \n",
      " 1   id                   7488 non-null   int64 \n",
      " 2   comment              7488 non-null   object\n",
      " 3   User  id             7488 non-null   int64 \n",
      " 4   Photo id             7488 non-null   int64 \n",
      " 5   created Timestamp    7488 non-null   object\n",
      " 6   posted date          7488 non-null   object\n",
      " 7   emoji used           7488 non-null   object\n",
      " 8   Hashtags used count  7488 non-null   int64 \n",
      "dtypes: int64(5), object(4)\n",
      "memory usage: 526.6+ KB\n"
     ]
    }
   ],
   "source": [
    "#information about the dataset\n",
    "data.info()"
   ]
  },
  {
   "cell_type": "code",
   "execution_count": 5,
   "id": "7c8be013-54de-4fb8-9a11-fcd645e73ca3",
   "metadata": {},
   "outputs": [
    {
     "data": {
      "text/plain": [
       "0"
      ]
     },
     "execution_count": 5,
     "metadata": {},
     "output_type": "execute_result"
    }
   ],
   "source": [
    "#check for duplicates, missing or erraneous values\n",
    "data.duplicated().sum()"
   ]
  },
  {
   "cell_type": "code",
   "execution_count": 6,
   "id": "cda1289d-324e-49ad-8d78-a419d8cb85f2",
   "metadata": {},
   "outputs": [
    {
     "data": {
      "text/plain": [
       "Unnamed: 0             0\n",
       "id                     0\n",
       "comment                0\n",
       "User  id               0\n",
       "Photo id               0\n",
       "created Timestamp      0\n",
       "posted date            0\n",
       "emoji used             0\n",
       "Hashtags used count    0\n",
       "dtype: int64"
      ]
     },
     "execution_count": 6,
     "metadata": {},
     "output_type": "execute_result"
    }
   ],
   "source": [
    "#null values\n",
    "data.isnull().sum()"
   ]
  },
  {
   "cell_type": "markdown",
   "id": "1fb0106f-ba81-4de8-8c84-d76e6cb0642e",
   "metadata": {},
   "source": [
    "Our dataset is now clear for EDA "
   ]
  },
  {
   "cell_type": "markdown",
   "id": "7d471a8c-ce50-4672-82b5-06dbcf313f8b",
   "metadata": {},
   "source": [
    " ## EDA \n"
   ]
  },
  {
   "cell_type": "markdown",
   "id": "7fb5fad1-5bad-4d13-91e5-caff43839b9d",
   "metadata": {},
   "source": [
    "First off, we'll be using the #hashtag column to understand how many interacted with the igtv. We need to look for any outliers in the dataset and we can do this by using a boxplot"
   ]
  },
  {
   "cell_type": "code",
   "execution_count": 18,
   "id": "1f02c951-8a1a-409c-bfd6-cf875e09603d",
   "metadata": {},
   "outputs": [
    {
     "data": {
      "image/png": "[encoded data removed]",
      "text/plain": [
       "<Figure size 600x300 with 1 Axes>"
      ]
     },
     "metadata": {},
     "output_type": "display_data"
    }
   ],
   "source": [
    "import seaborn as sns\n",
    "\n",
    "plt.figure(figsize=(6,3))\n",
    "sns.boxplot(x=data['Hashtags used count'])\n",
    "plt.title('Box Plot of Hashtags Used Count')\n",
    "plt.xlabel('Hashtags Used Count')\n",
    "plt.show()\n"
   ]
  },
  {
   "cell_type": "code",
   "execution_count": 37,
   "id": "9556b242-d4ed-4413-878d-c5eb92eeba1f",
   "metadata": {},
   "outputs": [
    {
     "data": {
      "image/png": "[encoded data removed]",
      "text/plain": [
       "<Figure size 600x400 with 1 Axes>"
      ]
     },
     "metadata": {},
     "output_type": "display_data"
    }
   ],
   "source": [
    "#plot to show how many used igtv hashtag\n",
    "df= data['Hashtags used count'].value_counts()\n",
    "plt.figure(figsize=(6, 4))\n",
    "plt.bar(df.index, df.values,)\n",
    "plt.title('Hashtags used')\n",
    "plt.xlabel('No. Hashtags Used')\n",
    "plt.ylabel('Users')\n",
    "plt.show()\n",
    "\n"
   ]
  },
  {
   "cell_type": "markdown",
   "id": "2b8243a0-d0bd-4605-bcaf-61733d4a969c",
   "metadata": {},
   "source": [
    "## Conclusion"
   ]
  },
  {
   "cell_type": "markdown",
   "id": "5005233f-070a-40b8-b5dc-34907232f843",
   "metadata": {},
   "source": [
    "To summarize, as an Instagram Product Data Scientist, analyzing the success of the Instagram TV (IGTV) product necessitates a multifaceted approach. The presented bar plot displaying the distribution of 'Hashtags Used Count' provides useful insights on IGTV user engagement and content discoverability. The following are the important takeaways:\n",
    "\n",
    "* Hashtags: A diverse use of hashtags indicates that users are utilizing to label their content. This can improve discoverability of the hashtags to a larger audience.\n",
    "\n",
    "* High Counts:Popular hashtag counts among users. This points out areas of interest that should be researched further in order to have a better understanding of trending topics and user preferences.\n",
    "* Low hashtag counts may suggest possibilities to create awareness and encourage people to utilize hashtags.\n",
    "\n",
    "\n",
    "To fully measure the success, some factors need to be considered ,including viewer engagement (i.e likes, comments, and shares), and content length. Instagram can make data-driven changes to the IGTV experience and boost its success by continuously monitoring these factors and evaluating user behavior. In conclusion, IGTV success is judged by a holistic knowledge of user interaction and content performance rather than by a single indicator. This strategy allows for data-driven decisions, which may lead to product improvements and a more satisfying experience for both content providers and IGTV users.\n"
   ]
  }
 ],
 "metadata": {
  "kernelspec": {
   "display_name": "Python 3 (ipykernel)",
   "language": "python",
   "name": "python3"
  },
  "language_info": {
   "codemirror_mode": {
    "name": "ipython",
    "version": 3
   },
   "file_extension": ".py",
   "mimetype": "text/x-python",
   "name": "python",
   "nbconvert_exporter": "python",
   "pygments_lexer": "ipython3",
   "version": "3.11.5"
  }
 },
 "nbformat": 4,
 "nbformat_minor": 5
}
